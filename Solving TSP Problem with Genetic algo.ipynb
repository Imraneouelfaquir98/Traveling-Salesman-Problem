{
 "cells": [
  {
   "cell_type": "code",
   "execution_count": 1,
   "metadata": {},
   "outputs": [],
   "source": [
    "import numpy as np\n",
    "from genetic import Genetic"
   ]
  },
  {
   "cell_type": "code",
   "execution_count": 2,
   "metadata": {},
   "outputs": [],
   "source": [
    "distances = [[   0,  462,  772,  379,  546,  678,  215],\n",
    "             [ 462,    0,  326,  598,  842,  506,  664],\n",
    "             [ 772,  326,    0,  909,  555,  407, 1005],\n",
    "             [ 379,  598,  909,    0,  338,  540,  584],\n",
    "             [ 546,  842,  555,  338,    0,  250,  792],\n",
    "             [ 678,  506,  407,  540,  250,    0,  926],\n",
    "             [ 215,  664, 1005,  584,  792,  926,    0]]\n",
    "\n",
    "cities  = [\"Taounate\", \"Fes\", \"Rabat\", \"Casablanca\", \"Tanger\", \"Kenitra\", \"Marrakech\"]\n",
    "\n",
    "def cost_function(distances, road):\n",
    "    dist = 0\n",
    "    for i in range(len(road) - 1):\n",
    "        dist += distances[road[i]][road[i+1]]\n",
    "    return dist"
   ]
  },
  {
   "cell_type": "code",
   "execution_count": 3,
   "metadata": {},
   "outputs": [],
   "source": [
    "ga = Genetic(\n",
    "        cost_function, \n",
    "        distances,\n",
    "        cities,\n",
    "        start = \"Fes\", \n",
    "        max_iter = 100, \n",
    "        nbr_pop = 50,\n",
    "    )"
   ]
  },
  {
   "cell_type": "code",
   "execution_count": 9,
   "metadata": {},
   "outputs": [
    {
     "name": "stdout",
     "output_type": "stream",
     "text": [
      "Iteration 0: Best Cost = 2579.0\n",
      "Iteration 10: Best Cost = 2579.0\n",
      "Iteration 20: Best Cost = 2579.0\n",
      "Iteration 30: Best Cost = 2579.0\n",
      "Iteration 40: Best Cost = 2579.0\n",
      "Iteration 50: Best Cost = 2579.0\n",
      "Iteration 60: Best Cost = 2579.0\n",
      "Iteration 70: Best Cost = 2579.0\n",
      "Iteration 80: Best Cost = 2579.0\n",
      "Iteration 90: Best Cost = 2579.0\n"
     ]
    }
   ],
   "source": [
    "bestsol = ga.fit()"
   ]
  },
  {
   "cell_type": "code",
   "execution_count": 10,
   "metadata": {},
   "outputs": [
    {
     "data": {
      "text/plain": [
       "['Fes',\n",
       " 'Marrakech',\n",
       " 'Taounate',\n",
       " 'Casablanca',\n",
       " 'Tanger',\n",
       " 'Kenitra',\n",
       " 'Rabat',\n",
       " 'Fes']"
      ]
     },
     "execution_count": 10,
     "metadata": {},
     "output_type": "execute_result"
    }
   ],
   "source": [
    "best_road = [cities[bestsol.road[i]] for i in range(bestsol.road.shape[0])]\n",
    "best_road"
   ]
  },
  {
   "cell_type": "code",
   "execution_count": null,
   "metadata": {},
   "outputs": [],
   "source": []
  }
 ],
 "metadata": {
  "kernelspec": {
   "display_name": "Python 3",
   "language": "python",
   "name": "python3"
  },
  "language_info": {
   "codemirror_mode": {
    "name": "ipython",
    "version": 3
   },
   "file_extension": ".py",
   "mimetype": "text/x-python",
   "name": "python",
   "nbconvert_exporter": "python",
   "pygments_lexer": "ipython3",
   "version": "3.8.5"
  }
 },
 "nbformat": 4,
 "nbformat_minor": 4
}
